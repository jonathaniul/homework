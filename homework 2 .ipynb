{
 "cells": [
  {
   "cell_type": "markdown",
   "id": "80120dbd",
   "metadata": {},
   "source": [
    "# Chapter 2 Exersizes\n",
    "\n",
    "Algorithom Workbench #12"
   ]
  },
  {
   "cell_type": "code",
   "execution_count": 4,
   "id": "03803725",
   "metadata": {},
   "outputs": [
    {
     "name": "stdout",
     "output_type": "stream",
     "text": [
      "George@John@Paul@Ringo\n"
     ]
    }
   ],
   "source": [
    "print('George', 'John', 'Paul', 'Ringo', sep='@')"
   ]
  },
  {
   "cell_type": "markdown",
   "id": "4c0e3cf2",
   "metadata": {},
   "source": [
    "i think that it is going to print George@John@Paul@Ringo\n",
    "i was right it printed that"
   ]
  },
  {
   "cell_type": "markdown",
   "id": "080769c3",
   "metadata": {},
   "source": [
    "Practice problem 1"
   ]
  },
  {
   "cell_type": "code",
   "execution_count": 20,
   "id": "6122aae8",
   "metadata": {},
   "outputs": [
    {
     "name": "stdout",
     "output_type": "stream",
     "text": [
      "Enter student's name: Jonathan\n",
      "Enter student's address: 233 park dr\n",
      "Enter student's city, state, zip code: Macomb, Michigan, 48042\n",
      "Enter student's telephone number: 3332221212\n",
      "Enter student's college major: Finance\n",
      "\n",
      "Student Information:\n",
      "Name: Jonathan\n",
      "Address: 233 park dr\n",
      "City,State,Zip code: Macomb, Michigan, 48042\n",
      "Telephone Number: 3332221212\n",
      "College Major: Finance\n"
     ]
    }
   ],
   "source": [
    "#ask for the information\n",
    "#ask for name\n",
    "#asl for adress\n",
    "#ask for city state and zipcode\n",
    "#ask for major\n",
    "name = input(\"Enter student's name: \")\n",
    "address = input(\"Enter student's address: \")\n",
    "city = input(\"Enter student's city, state, zip code: \")\n",
    "phone_number = input(\"Enter student's telephone number: \")\n",
    "major = input(\"Enter student's college major: \")\n",
    "\n",
    "# Display student information\n",
    "#create print statements to display all of the inputed information\n",
    "print(\"\\nStudent Information:\")\n",
    "print(f\"Name: {name}\")\n",
    "print(f\"Address: {address}\")\n",
    "print(f\"City,State,Zip code: {city}\")\n",
    "print(f\"Telephone Number: {phone_number}\")\n",
    "print(f\"College Major: {major}\")\n"
   ]
  },
  {
   "cell_type": "markdown",
   "id": "3676f5d1",
   "metadata": {},
   "source": [
    "Practice problem 12"
   ]
  },
  {
   "cell_type": "code",
   "execution_count": 21,
   "id": "15295964",
   "metadata": {},
   "outputs": [
    {
     "name": "stdout",
     "output_type": "stream",
     "text": [
      "Enter the length of the row in feet: 14\n",
      "Enter the amount of space used by an end post in feet: 12\n",
      "Enter the amount of space between the vines in feet: 10\n",
      "Number of vines that can fit in the row: -1.0\n"
     ]
    }
   ],
   "source": [
    "# Input values as floats\n",
    "#ask for length\n",
    "#ask for space  by end post\n",
    "#ask for amount of space between vines\n",
    "\n",
    "r = float(input(\"Enter the length of the row in feet: \"))\n",
    "e = float(input(\"Enter the amount of space used by an end post in feet: \"))\n",
    "s = float(input(\"Enter the amount of space between the vines in feet: \"))\n",
    "\n",
    "# Calculate the number of vines that can fit in the row\n",
    "v = (r - 2 * e) / s\n",
    "\n",
    "# Print the result\n",
    "print(\"Number of vines that can fit in the row:\", v)\n",
    "\n"
   ]
  },
  {
   "cell_type": "code",
   "execution_count": null,
   "id": "2abb5f29",
   "metadata": {},
   "outputs": [],
   "source": []
  }
 ],
 "metadata": {
  "kernelspec": {
   "display_name": "Python 3 (ipykernel)",
   "language": "python",
   "name": "python3"
  },
  "language_info": {
   "codemirror_mode": {
    "name": "ipython",
    "version": 3
   },
   "file_extension": ".py",
   "mimetype": "text/x-python",
   "name": "python",
   "nbconvert_exporter": "python",
   "pygments_lexer": "ipython3",
   "version": "3.11.4"
  }
 },
 "nbformat": 4,
 "nbformat_minor": 5
}
